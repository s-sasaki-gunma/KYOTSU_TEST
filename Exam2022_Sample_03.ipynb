{
  "nbformat": 4,
  "nbformat_minor": 0,
  "metadata": {
    "colab": {
      "provenance": [],
      "collapsed_sections": [],
      "authorship_tag": "ABX9TyPqBPo3NMxWzBopCxIL2ol4",
      "include_colab_link": true
    },
    "kernelspec": {
      "name": "python3",
      "display_name": "Python 3"
    },
    "language_info": {
      "name": "python"
    },
    "widgets": {
      "application/vnd.jupyter.widget-state+json": {
        "f2e660ac9765458e9f4f5aa4e023db4c": {
          "model_module": "@jupyter-widgets/controls",
          "model_name": "VBoxModel",
          "model_module_version": "1.5.0",
          "state": {
            "_dom_classes": [
              "widget-interact"
            ],
            "_model_module": "@jupyter-widgets/controls",
            "_model_module_version": "1.5.0",
            "_model_name": "VBoxModel",
            "_view_count": null,
            "_view_module": "@jupyter-widgets/controls",
            "_view_module_version": "1.5.0",
            "_view_name": "VBoxView",
            "box_style": "",
            "children": [
              "IPY_MODEL_5c97e50cc1154d688d1a08a70fbef03c",
              "IPY_MODEL_53edc3dedcc84b1fa2759aa1a22c1aec"
            ],
            "layout": "IPY_MODEL_20084bce43164d0896e07e4d0189a9d3"
          }
        },
        "5c97e50cc1154d688d1a08a70fbef03c": {
          "model_module": "@jupyter-widgets/controls",
          "model_name": "IntSliderModel",
          "model_module_version": "1.5.0",
          "state": {
            "_dom_classes": [],
            "_model_module": "@jupyter-widgets/controls",
            "_model_module_version": "1.5.0",
            "_model_name": "IntSliderModel",
            "_view_count": null,
            "_view_module": "@jupyter-widgets/controls",
            "_view_module_version": "1.5.0",
            "_view_name": "IntSliderView",
            "continuous_update": true,
            "description": "価格",
            "description_tooltip": null,
            "disabled": false,
            "layout": "IPY_MODEL_fe0c7f98b3cf444eb3afc2f006e9f4a5",
            "max": 100,
            "min": 1,
            "orientation": "horizontal",
            "readout": true,
            "readout_format": "d",
            "step": 1,
            "style": "IPY_MODEL_473351ef6ac74551ab7f60530be57eb9",
            "value": 46
          }
        },
        "53edc3dedcc84b1fa2759aa1a22c1aec": {
          "model_module": "@jupyter-widgets/output",
          "model_name": "OutputModel",
          "model_module_version": "1.0.0",
          "state": {
            "_dom_classes": [],
            "_model_module": "@jupyter-widgets/output",
            "_model_module_version": "1.0.0",
            "_model_name": "OutputModel",
            "_view_count": null,
            "_view_module": "@jupyter-widgets/output",
            "_view_module_version": "1.0.0",
            "_view_name": "OutputView",
            "layout": "IPY_MODEL_5830921811254e28bd48f2693af82099",
            "msg_id": "",
            "outputs": [
              {
                "output_type": "stream",
                "name": "stdout",
                "text": [
                  "3\n"
                ]
              }
            ]
          }
        },
        "20084bce43164d0896e07e4d0189a9d3": {
          "model_module": "@jupyter-widgets/base",
          "model_name": "LayoutModel",
          "model_module_version": "1.2.0",
          "state": {
            "_model_module": "@jupyter-widgets/base",
            "_model_module_version": "1.2.0",
            "_model_name": "LayoutModel",
            "_view_count": null,
            "_view_module": "@jupyter-widgets/base",
            "_view_module_version": "1.2.0",
            "_view_name": "LayoutView",
            "align_content": null,
            "align_items": null,
            "align_self": null,
            "border": null,
            "bottom": null,
            "display": null,
            "flex": null,
            "flex_flow": null,
            "grid_area": null,
            "grid_auto_columns": null,
            "grid_auto_flow": null,
            "grid_auto_rows": null,
            "grid_column": null,
            "grid_gap": null,
            "grid_row": null,
            "grid_template_areas": null,
            "grid_template_columns": null,
            "grid_template_rows": null,
            "height": null,
            "justify_content": null,
            "justify_items": null,
            "left": null,
            "margin": null,
            "max_height": null,
            "max_width": null,
            "min_height": null,
            "min_width": null,
            "object_fit": null,
            "object_position": null,
            "order": null,
            "overflow": null,
            "overflow_x": null,
            "overflow_y": null,
            "padding": null,
            "right": null,
            "top": null,
            "visibility": null,
            "width": null
          }
        },
        "fe0c7f98b3cf444eb3afc2f006e9f4a5": {
          "model_module": "@jupyter-widgets/base",
          "model_name": "LayoutModel",
          "model_module_version": "1.2.0",
          "state": {
            "_model_module": "@jupyter-widgets/base",
            "_model_module_version": "1.2.0",
            "_model_name": "LayoutModel",
            "_view_count": null,
            "_view_module": "@jupyter-widgets/base",
            "_view_module_version": "1.2.0",
            "_view_name": "LayoutView",
            "align_content": null,
            "align_items": null,
            "align_self": null,
            "border": null,
            "bottom": null,
            "display": null,
            "flex": null,
            "flex_flow": null,
            "grid_area": null,
            "grid_auto_columns": null,
            "grid_auto_flow": null,
            "grid_auto_rows": null,
            "grid_column": null,
            "grid_gap": null,
            "grid_row": null,
            "grid_template_areas": null,
            "grid_template_columns": null,
            "grid_template_rows": null,
            "height": null,
            "justify_content": null,
            "justify_items": null,
            "left": null,
            "margin": null,
            "max_height": null,
            "max_width": null,
            "min_height": null,
            "min_width": null,
            "object_fit": null,
            "object_position": null,
            "order": null,
            "overflow": null,
            "overflow_x": null,
            "overflow_y": null,
            "padding": null,
            "right": null,
            "top": null,
            "visibility": null,
            "width": null
          }
        },
        "473351ef6ac74551ab7f60530be57eb9": {
          "model_module": "@jupyter-widgets/controls",
          "model_name": "SliderStyleModel",
          "model_module_version": "1.5.0",
          "state": {
            "_model_module": "@jupyter-widgets/controls",
            "_model_module_version": "1.5.0",
            "_model_name": "SliderStyleModel",
            "_view_count": null,
            "_view_module": "@jupyter-widgets/base",
            "_view_module_version": "1.2.0",
            "_view_name": "StyleView",
            "description_width": "",
            "handle_color": null
          }
        },
        "5830921811254e28bd48f2693af82099": {
          "model_module": "@jupyter-widgets/base",
          "model_name": "LayoutModel",
          "model_module_version": "1.2.0",
          "state": {
            "_model_module": "@jupyter-widgets/base",
            "_model_module_version": "1.2.0",
            "_model_name": "LayoutModel",
            "_view_count": null,
            "_view_module": "@jupyter-widgets/base",
            "_view_module_version": "1.2.0",
            "_view_name": "LayoutView",
            "align_content": null,
            "align_items": null,
            "align_self": null,
            "border": null,
            "bottom": null,
            "display": null,
            "flex": null,
            "flex_flow": null,
            "grid_area": null,
            "grid_auto_columns": null,
            "grid_auto_flow": null,
            "grid_auto_rows": null,
            "grid_column": null,
            "grid_gap": null,
            "grid_row": null,
            "grid_template_areas": null,
            "grid_template_columns": null,
            "grid_template_rows": null,
            "height": null,
            "justify_content": null,
            "justify_items": null,
            "left": null,
            "margin": null,
            "max_height": null,
            "max_width": null,
            "min_height": null,
            "min_width": null,
            "object_fit": null,
            "object_position": null,
            "order": null,
            "overflow": null,
            "overflow_x": null,
            "overflow_y": null,
            "padding": null,
            "right": null,
            "top": null,
            "visibility": null,
            "width": null
          }
        },
        "684da1d36b2d4a099396049c8e1224a8": {
          "model_module": "@jupyter-widgets/controls",
          "model_name": "VBoxModel",
          "model_module_version": "1.5.0",
          "state": {
            "_dom_classes": [
              "widget-interact"
            ],
            "_model_module": "@jupyter-widgets/controls",
            "_model_module_version": "1.5.0",
            "_model_name": "VBoxModel",
            "_view_count": null,
            "_view_module": "@jupyter-widgets/controls",
            "_view_module_version": "1.5.0",
            "_view_name": "VBoxView",
            "box_style": "",
            "children": [
              "IPY_MODEL_b3b560a7a7d24c89ad85e457cce05ac4",
              "IPY_MODEL_89c990721f9747ffb1177febda213584"
            ],
            "layout": "IPY_MODEL_88f58318241f41d9a7118949612a75b3"
          }
        },
        "b3b560a7a7d24c89ad85e457cce05ac4": {
          "model_module": "@jupyter-widgets/controls",
          "model_name": "IntSliderModel",
          "model_module_version": "1.5.0",
          "state": {
            "_dom_classes": [],
            "_model_module": "@jupyter-widgets/controls",
            "_model_module_version": "1.5.0",
            "_model_name": "IntSliderModel",
            "_view_count": null,
            "_view_module": "@jupyter-widgets/controls",
            "_view_module_version": "1.5.0",
            "_view_name": "IntSliderView",
            "continuous_update": true,
            "description": "価格",
            "description_tooltip": null,
            "disabled": false,
            "layout": "IPY_MODEL_67690048fc93479c9b0513ada03b21a8",
            "max": 10000,
            "min": 1,
            "orientation": "horizontal",
            "readout": true,
            "readout_format": "d",
            "step": 1,
            "style": "IPY_MODEL_e6d1855982d14e32a657a8044e3be081",
            "value": 46
          }
        },
        "89c990721f9747ffb1177febda213584": {
          "model_module": "@jupyter-widgets/output",
          "model_name": "OutputModel",
          "model_module_version": "1.0.0",
          "state": {
            "_dom_classes": [],
            "_model_module": "@jupyter-widgets/output",
            "_model_module_version": "1.0.0",
            "_model_name": "OutputModel",
            "_view_count": null,
            "_view_module": "@jupyter-widgets/output",
            "_view_module_version": "1.0.0",
            "_view_name": "OutputView",
            "layout": "IPY_MODEL_260c5083a65b4301bd147fa5282b302c",
            "msg_id": "",
            "outputs": [
              {
                "output_type": "stream",
                "name": "stdout",
                "text": [
                  "払：\n",
                  "　　 50 円：\t 1 枚\n",
                  "　　 1 円：\t 1 枚\n",
                  "　　 51 円\t計 2 枚\n",
                  "釣：\n",
                  "　　 5 円：\t 1 枚\n",
                  "　　 5 円\t計 1 枚\n",
                  "\n"
                ]
              },
              {
                "output_type": "stream",
                "name": "stdout",
                "text": [
                  "使用合計枚数\t 3 枚\n"
                ]
              }
            ]
          }
        },
        "88f58318241f41d9a7118949612a75b3": {
          "model_module": "@jupyter-widgets/base",
          "model_name": "LayoutModel",
          "model_module_version": "1.2.0",
          "state": {
            "_model_module": "@jupyter-widgets/base",
            "_model_module_version": "1.2.0",
            "_model_name": "LayoutModel",
            "_view_count": null,
            "_view_module": "@jupyter-widgets/base",
            "_view_module_version": "1.2.0",
            "_view_name": "LayoutView",
            "align_content": null,
            "align_items": null,
            "align_self": null,
            "border": null,
            "bottom": null,
            "display": null,
            "flex": null,
            "flex_flow": null,
            "grid_area": null,
            "grid_auto_columns": null,
            "grid_auto_flow": null,
            "grid_auto_rows": null,
            "grid_column": null,
            "grid_gap": null,
            "grid_row": null,
            "grid_template_areas": null,
            "grid_template_columns": null,
            "grid_template_rows": null,
            "height": null,
            "justify_content": null,
            "justify_items": null,
            "left": null,
            "margin": null,
            "max_height": null,
            "max_width": null,
            "min_height": null,
            "min_width": null,
            "object_fit": null,
            "object_position": null,
            "order": null,
            "overflow": null,
            "overflow_x": null,
            "overflow_y": null,
            "padding": null,
            "right": null,
            "top": null,
            "visibility": null,
            "width": null
          }
        },
        "67690048fc93479c9b0513ada03b21a8": {
          "model_module": "@jupyter-widgets/base",
          "model_name": "LayoutModel",
          "model_module_version": "1.2.0",
          "state": {
            "_model_module": "@jupyter-widgets/base",
            "_model_module_version": "1.2.0",
            "_model_name": "LayoutModel",
            "_view_count": null,
            "_view_module": "@jupyter-widgets/base",
            "_view_module_version": "1.2.0",
            "_view_name": "LayoutView",
            "align_content": null,
            "align_items": null,
            "align_self": null,
            "border": null,
            "bottom": null,
            "display": null,
            "flex": null,
            "flex_flow": null,
            "grid_area": null,
            "grid_auto_columns": null,
            "grid_auto_flow": null,
            "grid_auto_rows": null,
            "grid_column": null,
            "grid_gap": null,
            "grid_row": null,
            "grid_template_areas": null,
            "grid_template_columns": null,
            "grid_template_rows": null,
            "height": null,
            "justify_content": null,
            "justify_items": null,
            "left": null,
            "margin": null,
            "max_height": null,
            "max_width": null,
            "min_height": null,
            "min_width": null,
            "object_fit": null,
            "object_position": null,
            "order": null,
            "overflow": null,
            "overflow_x": null,
            "overflow_y": null,
            "padding": null,
            "right": null,
            "top": null,
            "visibility": null,
            "width": null
          }
        },
        "e6d1855982d14e32a657a8044e3be081": {
          "model_module": "@jupyter-widgets/controls",
          "model_name": "SliderStyleModel",
          "model_module_version": "1.5.0",
          "state": {
            "_model_module": "@jupyter-widgets/controls",
            "_model_module_version": "1.5.0",
            "_model_name": "SliderStyleModel",
            "_view_count": null,
            "_view_module": "@jupyter-widgets/base",
            "_view_module_version": "1.2.0",
            "_view_name": "StyleView",
            "description_width": "",
            "handle_color": null
          }
        },
        "260c5083a65b4301bd147fa5282b302c": {
          "model_module": "@jupyter-widgets/base",
          "model_name": "LayoutModel",
          "model_module_version": "1.2.0",
          "state": {
            "_model_module": "@jupyter-widgets/base",
            "_model_module_version": "1.2.0",
            "_model_name": "LayoutModel",
            "_view_count": null,
            "_view_module": "@jupyter-widgets/base",
            "_view_module_version": "1.2.0",
            "_view_name": "LayoutView",
            "align_content": null,
            "align_items": null,
            "align_self": null,
            "border": null,
            "bottom": null,
            "display": null,
            "flex": null,
            "flex_flow": null,
            "grid_area": null,
            "grid_auto_columns": null,
            "grid_auto_flow": null,
            "grid_auto_rows": null,
            "grid_column": null,
            "grid_gap": null,
            "grid_row": null,
            "grid_template_areas": null,
            "grid_template_columns": null,
            "grid_template_rows": null,
            "height": null,
            "justify_content": null,
            "justify_items": null,
            "left": null,
            "margin": null,
            "max_height": null,
            "max_width": null,
            "min_height": null,
            "min_width": null,
            "object_fit": null,
            "object_position": null,
            "order": null,
            "overflow": null,
            "overflow_x": null,
            "overflow_y": null,
            "padding": null,
            "right": null,
            "top": null,
            "visibility": null,
            "width": null
          }
        }
      }
    }
  },
  "cells": [
    {
      "cell_type": "markdown",
      "metadata": {
        "id": "view-in-github",
        "colab_type": "text"
      },
      "source": [
        "<a href=\"https://colab.research.google.com/github/s-sasaki-gunma/KYOTSU_TEST/blob/main/Exam2022_Sample_03.ipynb\" target=\"_parent\"><img src=\"https://colab.research.google.com/assets/colab-badge.svg\" alt=\"Open In Colab\"/></a>"
      ]
    },
    {
      "cell_type": "markdown",
      "source": [
        "# 第3問 コンピュータとプログラミング\n",
        "\n",
        "> 日常的な買い物において，代金を支払う際の「上手な払い方」を考えるという問題解決の題材において，基本的なアルゴリズムとプログラミングの基本に関する理解を基に，示された要件を踏まえたプログラムについて論理的に考察できるかを問う。（[共通テスト試作問題](https://www.dnc.ac.jp/albums/abm.php?f=abm00041798.pdf&n=6-2-1+%E8%A9%A6%E4%BD%9C%E5%95%8F%E9%A1%8C%E3%80%8E%E6%83%85%E5%A0%B1%E2%85%A0%E3%80%8F.pdf#page=22)）\n",
        "\n",
        "|||\n",
        "|-|-|\n",
        "|問1| この問題で定義する「上手な払い方」を理解した上で，必要となる関数の理解とその使用方法について論理的に考察できるかを問う。 |\n",
        "|問2| 目標の金額になる最小の硬貨枚数を計算する考え方を理解した上で，基本的なプログラミングにおける変数の使い方や繰返しによる処理，算術演算の活用法を理解しているか，また，求めるアルゴリズムについて論理的に考察できるかを問う。 |\n",
        "|問3| 最小となる交換硬貨枚数を求める基本的なプログラミングにおいて，作成した関数の使い方に関して理解しているか，また，繰返しや条件分岐を用いて最小値を求めるアルゴリズムについて論理的に考察できるかを問う。 |\n",
        "\n",
        "\n",
        "---\n",
        "\n",
        "## 問題文\n",
        "\n",
        "次の問い（問１～３）に答えよ。"
      ],
      "metadata": {
        "id": "dXGeRoX6Jcoc"
      }
    },
    {
      "cell_type": "markdown",
      "source": [
        "## 問1\n",
        "\n",
        "次の生徒（Ｓ）と先生（Ｔ）の会話文を読み，空欄 **[ ア ]** に当てはまる数字をマークせよ。また，空欄 **[ イ ]** ～ **[ エ ]** に入れるのに最も適当なものを，後の解答群のうちから一つずつ選べ。ただし，空欄 **[ ウ ]** ・ **[ エ ]** は解答の順序は問わない。"
      ],
      "metadata": {
        "id": "binz4BiEKhtD"
      }
    },
    {
      "cell_type": "markdown",
      "source": [
        "**Ｓ**：この前，お客さんが 460 円の商品を買うのに，510 円を払って，釣り銭を50 円受け取っていたのを見て，授業で勉強したプログラミングで，そんな「上手な払い方」を計算するプログラムを作ってみたいと思いました。\n",
        "\n",
        "**Ｔ**：いいですね。まず，「上手な払い方」とは何かを考える必要がありますね。\n",
        "\n",
        "**Ｓ**：普通は手持ちの硬貨の枚数を少なくするような払い方でしょうか。\n",
        "\n",
        "**Ｔ**：そうですね。ただ，ここでは，客が支払う枚数と釣り銭を受け取る枚数の合計を最小にする払い方を考えてみませんか？ 客も店も十分な枚数の硬貨を持っていると仮定しましょう。また，計算を簡単にするために，100 円以下の買い物とし，使う硬貨は 1 円玉，5 円玉，10 円玉，50 円玉，100 円玉のみで 500 円玉は使わない場合を考えてみましょう。例えば，46 円をちょうど支払う場合，支払う枚数はどうなりますか？\n",
        "\n",
        "**Ｓ**：46 円を支払うには，10 円玉 4 枚，5 円玉 1 枚，1 円玉 1 枚という 6 枚で払い方が最小の枚数になります。\n",
        "\n",
        "**Ｔ**：そうですね。一方，同じ 46 円を支払うのに，51 円を支払って釣り銭 5 円を受け取る払い方では，支払いに 2 枚，釣り銭に 1 枚で，合計 3 枚の硬貨のやり取りになります。こうすると交換する硬貨の枚数の合計が最小になりますね。\n",
        "\n",
        "**Ｓ**：これが上手な払い方ですね。\n",
        "\n",
        "**Ｔ**：そうです。このように，客と店が交換する硬貨の合計が最小となる枚数，すなわち「最小交換硬貨枚数」の計算を考えましょう。\n",
        "\n",
        "**Ｓ**：どうやって考えればいいかなぁ。\n",
        "\n",
        "**Ｔ**：ここでは，次の関数のプログラムを作り，それを使う方法を考えてみましょう。目標の金額を釣り銭無くちょうど支払うために必要な最小の硬貨枚数を求める関数です。"
      ],
      "metadata": {
        "id": "kg29UcFyLAly"
      }
    },
    {
      "cell_type": "markdown",
      "source": [
        "**【関数の説明】**\n",
        "\n",
        "> **枚数(金額)**… 引数として「金額」が与えられ，ちょうどその金額となる硬貨の組合せの中で，枚数が最小となる硬貨枚数が戻り値となる関数。  \n",
        "例：8 円は「5 円玉が 1 枚と 1 円玉が 3 枚」の組合せで最小の硬貨枚数になるので，**枚数(8)**の値は 4 となる。"
      ],
      "metadata": {
        "id": "gj9O875SNrji"
      }
    },
    {
      "cell_type": "markdown",
      "source": [
        "**Ｔ**：これは，例えば，枚数(46)＝ **[　ア　]**と計算してくれるような関数です。これを使って最小交換硬貨枚数の計算を考えてみましょう。例えば，46 円支払うのに，51 円払って 5 円の釣り銭を受け取る払い方をした場合，客と店の間で交換される硬貨枚数の合計は，この関数を使うと，どのように計算できますか？\n",
        "\n",
        "**Ｓ**：**[　イ　]**で求められますね。\n",
        "\n",
        "**Ｔ**：一般に，商品の価格 $x$ 円に対して釣り銭 $y$ 円を 0,1,2,...と変化させて，それぞれの場合に必要な硬貨の枚数の合計を\n",
        "\n",
        "$$ \\mathbf{枚数( [　ウ　] )＋枚数( [　エ　] )} $$\n",
        "\n",
        "と計算し，一番小さな値を最小交換硬貨枚数とすればよいのです。\n",
        "\n",
        "**Ｓ**：なるほど。それで，釣り銭 $y$ はいくらまで調べればよいでしょうか？\n",
        "\n",
        "**Ｔ**：面白い数学パズルですね。まあ，詳しくは今度考えるとして，今回は 100円以下の商品なので $y$ は 99 まで調べれば十分でしょう。\n",
        "\n",
        "---"
      ],
      "metadata": {
        "id": "3fK8vtNONtRB"
      }
    },
    {
      "cell_type": "markdown",
      "source": [
        "**[　イ　]** の解答群\n",
        "\n",
        "0. 　$ 枚数(51) + 枚数(5) $\n",
        "1. 　$ 枚数(46) + 枚数(5) $\n",
        "2. 　$ 枚数(51) - 枚数(5) $\n",
        "3. 　$ 枚数(46) - 枚数(5) $\n",
        "\n",
        "---\n"
      ],
      "metadata": {
        "id": "2MswSP34N0To"
      }
    },
    {
      "cell_type": "markdown",
      "source": [
        "**[　ウ　]** ・ **[　エ　]** の解答群\n",
        "\n",
        "0. 　$ x $\n",
        "1. 　$ y $\n",
        "2. 　$ x + y $\n",
        "3. 　$ x - y $\n",
        "\n",
        "---"
      ],
      "metadata": {
        "id": "K4dst1Q4N8u5"
      }
    },
    {
      "cell_type": "markdown",
      "source": [
        "## 問2\n",
        "\n",
        "次の文章の空欄 **[　オ　]** ～ **[　コ　]** に入れるのに最も適当なものを，後の解答群のうちから一つずつ選べ"
      ],
      "metadata": {
        "id": "ALzCdBX_O4so"
      }
    },
    {
      "cell_type": "markdown",
      "source": [
        "**Ｓ**：まずは，関数「**枚数(金額)**」のプログラムを作るために，与えられた金額ちょうどになる最小の硬貨枚数を計算するプログラムを考えてみます。もう少しヒントが欲しいなぁ。\n",
        "\n",
        "**Ｔ**：金額に対して，高額の硬貨から使うように考えて枚数と残金を計算していくとよいでしょう。また，金額に対して，ある額の硬貨が何枚まで使えて，残金がいくらになるかを計算するには，整数値の商を求める演算『÷』とその余りを求める演算『％』が使えるでしょう。例えば，46 円に対して 10円玉が何枚まで使えるかは **[　オ　]** で，その際にいくら残るかは **[　カ　]** で求めることができますね。\n",
        "\n",
        "**Ｓ**：なるほど！あとは自分でできそうです。\n",
        "\n",
        "　Ｓさんは，先生（Ｔ）との会話からヒントを得て，**変数 kingaku** に与えられた目標の金額（100 円以下）に対し，その金額ちょうどになる最小の硬貨枚数を計算するプログラムを考えてみた（図１）。ここでは例として目標の金額を 46円としている。  \n",
        "　**配列 Kouka** に硬貨の額を低い順に設定している。なお，配列の添字は 0 から始まるものとする。最低額の硬貨が 1 円玉なので **Kouka[0]** の値は 1 となる。  \n",
        "　先生（Ｔ）のヒントに従い，高額の硬貨から何枚まで使えるかを計算する方針で，**(4)～(6)**行目のような繰返し文にした。この繰返しで，**変数 maisu** に支払いに使う硬貨の枚数の合計が計算され，**変数 nokori** に残りいくら支払えばよいか，という残金が計算される。  \n",
        "　実行してみると **[　ア　]** が表示されたので，正しく計算できていることが分かる。いろいろな例で試してみたが，すべて正しく計算できていることを確認できた。"
      ],
      "metadata": {
        "id": "23V3YhZjPd8B"
      }
    },
    {
      "cell_type": "markdown",
      "source": [
        "```python\n",
        "(01) Kouka = [1,5,10,50,100]\n",
        "(02) kingaku = 46\n",
        "(03) maisu = 0, nokori = kingaku\n",
        "(04) i を 〘キ〙 ながら繰り返す：\n",
        "(05) ｜ maisu = 〘ク〙 ＋ 〘ケ〙\n",
        "(06) ⎿ nokori = 〘コ〙\n",
        "(07) 表示する(maisu)\n",
        "```\n",
        "\n",
        "$$図１　目標の金額ちょうどになる最小の硬貨枚数を計算するプログラム$$"
      ],
      "metadata": {
        "id": "AYAPm0aXQwPf"
      }
    },
    {
      "cell_type": "markdown",
      "source": [
        "**[　オ　]** ・ **[　カ　]** の解答群\n",
        "\n",
        "0. 　$ 46　\\div　10　+　1 $\n",
        "1. 　$ 46　\\%　10　-　1 $\n",
        "2. 　$ 46　\\div　10 $\n",
        "3. 　$ 46　\\%　10 $\n",
        "\n",
        "---"
      ],
      "metadata": {
        "id": "OGYWMDFfSi6-"
      }
    },
    {
      "cell_type": "markdown",
      "source": [
        "**[　キ　]** の解答群\n",
        "\n",
        "0. 　5 から 1 まで 1 ずつ減らし\n",
        "1. 　4 から 0 まで 1 ずつ減らし\n",
        "2. 　0 から 4 まで 1 ずつ増やし\n",
        "3. 　1 から 5 まで 1 ずつ増やし\n",
        "\n",
        "---"
      ],
      "metadata": {
        "id": "1dzUuVhQS66V"
      }
    },
    {
      "cell_type": "markdown",
      "source": [
        "**[　ク　]** の解答群\n",
        "\n",
        "0. 　$ 1 $\n",
        "1. 　$ maisu $\n",
        "2. 　$ i $\n",
        "3. 　$ nokori $\n",
        "\n",
        "---"
      ],
      "metadata": {
        "id": "nb1UlgR9S7ZU"
      }
    },
    {
      "cell_type": "markdown",
      "source": [
        "**[　ケ　]** ・ **[　コ　]** の解答群\n",
        "\n",
        "0. 　$ nokori　\\div　Kouka[i]  $\n",
        "1. 　$ nokori　\\%　Kouka[i] $\n",
        "2. 　$ maisu　\\div　Kouka[i]  $\n",
        "3. 　$ maisu　\\%　Kouka[i] $\n",
        "\n",
        "---"
      ],
      "metadata": {
        "id": "JysxdjzVS7_d"
      }
    },
    {
      "cell_type": "markdown",
      "source": [
        "## 問3\n",
        "\n",
        "次の文章を参考に，図２のプログラムの空欄 **[　サ　]** ～ **[　タ　]** に入れるのに最も適当なものを，後の解答群のうちから一つずつ選べ。ただし，空欄 **[　ス　]** ・ **[　セ　]** は解答の順序は問わない。"
      ],
      "metadata": {
        "id": "BTLGawKrU1T1"
      }
    },
    {
      "cell_type": "markdown",
      "source": [
        "**Ｔ**：プログラム（図１）ができたようですね。それを使えば，関数「**枚数(金額）**」のプログラムができます。関数の引数として与えられる金額の値をプログラム（図１）の**変数 kingaku** に設定し，**(7)**行目の代わりに**変数maisu** の値を関数の戻り値とすれば，関数「**枚数(金額）**」のプログラムとなります。では，その関数を使って最小交換硬貨枚数を計算するプログラムを作ってみましょう。ここでも，100 円以下の買い物として考えてみます。"
      ],
      "metadata": {
        "id": "JkSQQ1vqVRqk"
      }
    },
    {
      "cell_type": "markdown",
      "source": [
        "**【関数の説明】（再掲）**\n",
        "\n",
        "> **枚数(金額)**… 引数として「金額」が与えられ，ちょうどその金額となる硬貨の組合せの中で，枚数が最小となる硬貨枚数が戻り値となる関数。"
      ],
      "metadata": {
        "id": "Jowr2iQUVkNL"
      }
    },
    {
      "cell_type": "markdown",
      "source": [
        "　Ｓさんは，図２のようなプログラムを作成した。**変数 kakaku** に与えられる商品の価格に対して，釣り銭を表す**変数 tsuri** を用意し，妥当な **tsuri** のすべての値に対して交換する硬貨の枚数を調べ，その最小値を求めるプログラムである。なお，ここでは例として商品の価格を 46 円としている。  \n",
        "　このプログラムでは，先生（Ｔ）のアドバイスに従い，釣り銭無しの場合も含め，99 円までのすべての釣り銭に対し，その釣り銭になるように支払う場合に交換される硬貨の枚数を求め，その最小値を最小交換硬貨枚数として計算している。  \n",
        "　最小値の計算では，これまでの払い方での最小枚数を**変数 min_maisu** に記憶しておき，それより少ない枚数の払い方が出るたびに更新している。**min_maisu** の初期値には，十分に大きな値として 100 を用いている。100 円以下の買い物では，使う硬貨の枚数は 100 枚を超えないからである。"
      ],
      "metadata": {
        "id": "8e30G-8lV207"
      }
    },
    {
      "cell_type": "markdown",
      "source": [
        "```python\n",
        "(01) kakaku = 46\n",
        "(02) min_maisu = 100\n",
        "(03) 〘サ〙 を 〘シ〙 から 99 まで 1 ずつ増やしながら繰り返す：\n",
        "(04) ｜shiharai = kakaku + tsuri\n",
        "(05) ｜maisu = 〘ス〙 ＋ 〘セ〙\n",
        "(06) ｜もし 〘ソ〙 ＜ min_maisu ならば：\n",
        "(07) ⎿⎿ 〘タ〙 = 〘ソ〙\n",
        "(08) 表示する(min_maisu)\n",
        "```\n",
        "\n",
        "$$図２　最小交換硬貨枚数を求めるプログラム$$"
      ],
      "metadata": {
        "id": "-AjKL17eWTfi"
      }
    },
    {
      "cell_type": "markdown",
      "source": [
        "　このプログラムを実行してみたところ 3 が表示された。46 円を支払うときの最小交換硬貨枚数は，支払いで 50 円玉が 1 枚，1 円玉が 1 枚，釣り銭で 5 円玉が 1 枚の計 3 枚なので，正しく計算できていることが分かる。同様に， **kakaku** の値をいろいろと変えて実行してみたところ，すべて正しく計算できていることを確認できた。"
      ],
      "metadata": {
        "id": "a6R_O2FlXHJ7"
      }
    },
    {
      "cell_type": "markdown",
      "source": [
        "**[　サ　]** ・ **[　ソ　]** ・ **[　タ　]** の解答群\n",
        "\n",
        "0. 　$ maisu $\n",
        "1. 　$ min\\_maisu $\n",
        "2. 　$ shiharai $\n",
        "3. 　$ tsuri $\n",
        "\n",
        "---"
      ],
      "metadata": {
        "id": "_EpQ_CimXX37"
      }
    },
    {
      "cell_type": "markdown",
      "source": [
        "**[　シ　]** の解答群\n",
        "\n",
        "0. 　$ 0 $\n",
        "1. 　$ 1 $\n",
        "2. 　$ 99 $\n",
        "3. 　$ 100 $\n",
        "\n",
        "---"
      ],
      "metadata": {
        "id": "x0pfeunyXdvD"
      }
    },
    {
      "cell_type": "markdown",
      "source": [
        "**[　ス　]** ・ **[　セ　]** の解答群\n",
        "\n",
        "0. 　$ 枚数(shiharai) $\n",
        "1. 　$ 枚数(kakaku) $\n",
        "2. 　$ 枚数(tsuri) $\n",
        "3. 　$ shiharai $\n",
        "4. 　$ kakaku $\n",
        "5. 　$ tsuri $\n",
        "\n",
        "---"
      ],
      "metadata": {
        "id": "pLCc3ZatXeAS"
      }
    },
    {
      "cell_type": "markdown",
      "source": [
        "# 本文中のプログラムのPython化\n",
        "\n",
        "- 「ランタイム」から「すべてのセルを実効」しよう\n",
        "- 問題文に即しているため、三項演算子やarray.append()のようなPython独自の構文やメソッドはできる限り用いていない"
      ],
      "metadata": {
        "id": "kZfomIMeYZ-6"
      }
    },
    {
      "cell_type": "markdown",
      "source": [
        "## （問２）目標の金額ちょうどになる最小の硬貨枚数を計算するプログラム"
      ],
      "metadata": {
        "id": "pk5I0gbZbKG_"
      }
    },
    {
      "cell_type": "code",
      "source": [
        "Kouka = [1,5,10,50,100]\n",
        "kingaku = 46\n",
        "maisu = 0\n",
        "nokori = kingaku\n",
        "for i in range(0, 4)[::-1]:\n",
        "    maisu = maisu + nokori // Kouka[i]\n",
        "    nokori = nokori % Kouka[i]\n",
        "print(maisu)"
      ],
      "metadata": {
        "colab": {
          "base_uri": "https://localhost:8080/"
        },
        "id": "hK1iw4fJZEJB",
        "outputId": "decbbfa9-03dd-442d-f8ad-2005b225cffd"
      },
      "execution_count": 1,
      "outputs": [
        {
          "output_type": "stream",
          "name": "stdout",
          "text": [
            "6\n"
          ]
        }
      ]
    },
    {
      "cell_type": "code",
      "source": [
        "# 目標の金額ちょうどになる最小の硬貨枚数を計算するプログラムの関数化\n",
        "def MAISU(kingaku):\n",
        "    Kouka = [1,5,10,50,100]\n",
        "    maisu = 0\n",
        "    nokori = kingaku\n",
        "    for i in range(0, 4)[::-1]:\n",
        "        maisu = maisu + nokori // Kouka[i]\n",
        "        nokori = nokori % Kouka[i]\n",
        "    return maisu"
      ],
      "metadata": {
        "id": "0X5oLez4dmau"
      },
      "execution_count": 2,
      "outputs": []
    },
    {
      "cell_type": "markdown",
      "source": [
        "## （問３）最小交換硬貨枚数を求めるプログラム"
      ],
      "metadata": {
        "id": "uaYfvgi-bWCf"
      }
    },
    {
      "cell_type": "code",
      "source": [
        "kakaku = 46\n",
        "min_maisu = 100\n",
        "for tsuri in range(0, 99):\n",
        "    shiharai = kakaku + tsuri\n",
        "    maisu = MAISU(shiharai) + MAISU(tsuri)\n",
        "    if maisu < min_maisu :\n",
        "        min_maisu = maisu\n",
        "print(min_maisu)"
      ],
      "metadata": {
        "colab": {
          "base_uri": "https://localhost:8080/"
        },
        "id": "zLqUcRx5bZ2I",
        "outputId": "140121bb-700d-4bac-fca4-0d42c12c8b3a"
      },
      "execution_count": 3,
      "outputs": [
        {
          "output_type": "stream",
          "name": "stdout",
          "text": [
            "3\n"
          ]
        }
      ]
    },
    {
      "cell_type": "code",
      "source": [
        "# 最小交換硬貨枚数を求めるプログラムの関数化（calculate the Minimum Number of Exchangeable Coins）\n",
        "def calcMNEC(kakaku):\n",
        "    min_maisu = 100\n",
        "    for tsuri in range(0, 99):\n",
        "        shiharai = kakaku + tsuri\n",
        "        maisu = MAISU(shiharai) + MAISU(tsuri)\n",
        "        if maisu < min_maisu :\n",
        "            min_maisu = maisu\n",
        "    print(min_maisu)"
      ],
      "metadata": {
        "id": "ZbPaEWwmeU0_"
      },
      "execution_count": 4,
      "outputs": []
    },
    {
      "cell_type": "markdown",
      "source": [
        "# シミュレーション（最小交換硬貨枚数）\n",
        "- スライダーを動かして確認してみよう"
      ],
      "metadata": {
        "id": "UulrFizAfv9d"
      }
    },
    {
      "cell_type": "code",
      "source": [
        "import ipywidgets as widgets\n",
        "\n",
        "# 呼び出し部分（100円まで対応）\n",
        "kakaku = widgets.IntSlider( value=46, min=1, max=100, step=1, description=\"価格\" )\n",
        "widgets.interact( calcMNEC, kakaku=kakaku)"
      ],
      "metadata": {
        "colab": {
          "base_uri": "https://localhost:8080/",
          "height": 85,
          "referenced_widgets": [
            "f2e660ac9765458e9f4f5aa4e023db4c",
            "5c97e50cc1154d688d1a08a70fbef03c",
            "53edc3dedcc84b1fa2759aa1a22c1aec",
            "20084bce43164d0896e07e4d0189a9d3",
            "fe0c7f98b3cf444eb3afc2f006e9f4a5",
            "473351ef6ac74551ab7f60530be57eb9",
            "5830921811254e28bd48f2693af82099"
          ]
        },
        "id": "rnLgpwmEgCH8",
        "outputId": "bb46c259-cf25-4ebd-dfce-199dd243d44a"
      },
      "execution_count": 5,
      "outputs": [
        {
          "output_type": "display_data",
          "data": {
            "text/plain": [
              "interactive(children=(IntSlider(value=46, description='価格', min=1), Output()), _dom_classes=('widget-interact'…"
            ],
            "application/vnd.jupyter.widget-view+json": {
              "version_major": 2,
              "version_minor": 0,
              "model_id": "f2e660ac9765458e9f4f5aa4e023db4c"
            }
          },
          "metadata": {}
        },
        {
          "output_type": "execute_result",
          "data": {
            "text/plain": [
              "<function __main__.calcMNEC(kakaku)>"
            ]
          },
          "metadata": {},
          "execution_count": 5
        }
      ]
    },
    {
      "cell_type": "markdown",
      "source": [
        "# 最適化済みシミュレーション（最小交換硬貨枚数）\n",
        "- 1000円まで対応\n",
        "- スライダーを動かして確かめよう"
      ],
      "metadata": {
        "id": "6suvwQfWg5gW"
      }
    },
    {
      "cell_type": "code",
      "source": [
        "import ipywidgets as widgets\n",
        "from IPython.display import clear_output\n",
        "\n",
        "# 最小硬貨枚数を計算するプログラムを計算範囲拡張 & 内訳表示フラグの追加\n",
        "def extraMAISU(kingaku, visibleFlag):\n",
        "    Kouka = [10000,5000,2000,1000,500,100,50,10,5,1]\n",
        "    maisu = 0\n",
        "    nokori = kingaku\n",
        "    for i in range(len(Kouka)):\n",
        "        if visibleFlag and nokori >= Kouka[i] : print(\"　　\",Kouka[i],\"円：\\t\",nokori // Kouka[i],\"枚\")\n",
        "        maisu = maisu + nokori // Kouka[i]\n",
        "        nokori = nokori % Kouka[i]\n",
        "    return maisu\n",
        "\n",
        "# 最小交換硬貨枚数を求めるプログラムに内訳表示機能を追加\n",
        "def extraCalcMNEC(kakaku):\n",
        "    min_maisu = 100\n",
        "    for tsuri in range(0,10000):\n",
        "        shiharai = kakaku + tsuri\n",
        "        maisu = extraMAISU(shiharai ,False) + extraMAISU(tsuri ,False)\n",
        "        if maisu < min_maisu :\n",
        "            clear_output(True)\n",
        "            print(\"払：\")\n",
        "            print(\"　　\",shiharai,\"円\\t計\",extraMAISU(shiharai, True),\"枚\")\n",
        "            print(\"釣：\")\n",
        "            print(\"　　\",tsuri,\"円\\t計\",extraMAISU(tsuri, True),\"枚\")\n",
        "            print(\"\")\n",
        "            min_maisu = maisu\n",
        "    print(\"使用合計枚数\\t\",min_maisu,\"枚\")\n",
        "\n",
        "# 呼び出し部分（10000円まで対応）\n",
        "kakaku = widgets.IntSlider( value=46, min=1, max=10000, step=1, description=\"価格\" )\n",
        "widgets.interact( extraCalcMNEC, kakaku=kakaku)"
      ],
      "metadata": {
        "colab": {
          "base_uri": "https://localhost:8080/",
          "height": 229,
          "referenced_widgets": [
            "684da1d36b2d4a099396049c8e1224a8",
            "b3b560a7a7d24c89ad85e457cce05ac4",
            "89c990721f9747ffb1177febda213584",
            "88f58318241f41d9a7118949612a75b3",
            "67690048fc93479c9b0513ada03b21a8",
            "e6d1855982d14e32a657a8044e3be081",
            "260c5083a65b4301bd147fa5282b302c"
          ]
        },
        "id": "JnQSj7o3hJYD",
        "outputId": "11d2e08f-32f0-4fc8-ffa1-dc94126918fe"
      },
      "execution_count": 6,
      "outputs": [
        {
          "output_type": "display_data",
          "data": {
            "text/plain": [
              "interactive(children=(IntSlider(value=46, description='価格', max=10000, min=1), Output()), _dom_classes=('widge…"
            ],
            "application/vnd.jupyter.widget-view+json": {
              "version_major": 2,
              "version_minor": 0,
              "model_id": "684da1d36b2d4a099396049c8e1224a8"
            }
          },
          "metadata": {}
        },
        {
          "output_type": "execute_result",
          "data": {
            "text/plain": [
              "<function __main__.extraCalcMNEC(kakaku)>"
            ]
          },
          "metadata": {},
          "execution_count": 6
        }
      ]
    }
  ]
}